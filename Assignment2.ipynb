{
 "cells": [
  {
   "attachments": {},
   "cell_type": "markdown",
   "metadata": {},
   "source": [
    "Link to Github repository: https://github.com/fridamariejoergensen/CSS_assignment2.git\n",
    "\n",
    "### Contribution Statement\n",
    "\n",
    "We, Frida(s206182), Cecilie(s214605), and Marie(s204052), collaborated on Assignment 2 in Jupyter Notebook.\n",
    "\n",
    "All members collaborated and contributed to multiple parts of the assignment."
   ]
  },
  {
   "cell_type": "code",
   "execution_count": 69,
   "metadata": {},
   "outputs": [
    {
     "name": "stderr",
     "output_type": "stream",
     "text": [
      "[nltk_data] Downloading package stopwords to\n",
      "[nltk_data]     /Users/fridajorgensen/nltk_data...\n",
      "[nltk_data]   Package stopwords is already up-to-date!\n"
     ]
    }
   ],
   "source": [
    "import nltk\n",
    "nltk.download('stopwords')\n",
    "import pandas as pd\n",
    "import pickle\n",
    "import pandas as pd\n",
    "import numpy as np\n",
    "import matplotlib.pyplot as plt\n",
    "import os\n",
    "import networkx as nx\n",
    "import networkx.algorithms.community as nx_community\n",
    "from nltk.corpus import stopwords\n",
    "import re\n",
    "import string\n",
    "from nltk.tokenize import word_tokenize\n",
    "import networkx.algorithms.community as nx_comm\n",
    "import warnings\n",
    "warnings.filterwarnings(\"ignore\", category=RuntimeWarning)\n"
   ]
  },
  {
   "attachments": {},
   "cell_type": "markdown",
   "metadata": {},
   "source": [
    "# Assignment 2"
   ]
  },
  {
   "attachments": {},
   "cell_type": "markdown",
   "metadata": {},
   "source": [
    "## Part 1: Mixing Patterns and Assortativity"
   ]
  },
  {
   "attachments": {},
   "cell_type": "markdown",
   "metadata": {},
   "source": [
    "### Exercise 1: Mixing Patterns and Assortativity."
   ]
  },
  {
   "cell_type": "code",
   "execution_count": null,
   "metadata": {},
   "outputs": [],
   "source": []
  },
  {
   "cell_type": "code",
   "execution_count": null,
   "metadata": {},
   "outputs": [],
   "source": []
  },
  {
   "cell_type": "code",
   "execution_count": null,
   "metadata": {},
   "outputs": [],
   "source": []
  },
  {
   "cell_type": "code",
   "execution_count": null,
   "metadata": {},
   "outputs": [],
   "source": []
  },
  {
   "cell_type": "code",
   "execution_count": null,
   "metadata": {},
   "outputs": [],
   "source": []
  },
  {
   "cell_type": "code",
   "execution_count": null,
   "metadata": {},
   "outputs": [],
   "source": []
  },
  {
   "attachments": {},
   "cell_type": "markdown",
   "metadata": {},
   "source": [
    "## Part 2: Communities"
   ]
  },
  {
   "attachments": {},
   "cell_type": "markdown",
   "metadata": {},
   "source": [
    "### Exercise 2: Zachary's karate club:"
   ]
  },
  {
   "cell_type": "code",
   "execution_count": 70,
   "metadata": {},
   "outputs": [
    {
     "data": {
      "text/plain": [
       "(None, None)"
      ]
     },
     "execution_count": 70,
     "metadata": {},
     "output_type": "execute_result"
    }
   ],
   "source": [
    "import netwulf\n",
    "\n",
    "# 1. Visualizing graph\n",
    "data_graph = nx.karate_club_graph()\n",
    "netwulf.interactive.visualize(data_graph)"
   ]
  },
  {
   "cell_type": "code",
   "execution_count": 71,
   "metadata": {},
   "outputs": [
    {
     "data": {
      "text/plain": [
       "(None, None)"
      ]
     },
     "execution_count": 71,
     "metadata": {},
     "output_type": "execute_result"
    }
   ],
   "source": [
    "# coloring each node based in club split\n",
    "club = nx.get_node_attributes(data_graph, 'club')\n",
    "nx.set_node_attributes(data_graph, club, 'group')\n",
    "\n",
    "netwulf.interactive.visualize(data_graph)"
   ]
  },
  {
   "cell_type": "code",
   "execution_count": 72,
   "metadata": {},
   "outputs": [],
   "source": [
    "# 2. Function for computing modularity of graph partinioning (skal bruge eq. 9.12 fra bogen)\n",
    "\n",
    "\n",
    "\n",
    "###"
   ]
  },
  {
   "attachments": {},
   "cell_type": "markdown",
   "metadata": {},
   "source": [
    "<span style=\"color:red\">3. Explain in your own words the concept of modularity<span>"
   ]
  },
  {
   "cell_type": "code",
   "execution_count": 73,
   "metadata": {},
   "outputs": [],
   "source": [
    "# 4. Compute modularity of the Karate club split partitioning\n",
    "\n",
    "\n",
    "###"
   ]
  },
  {
   "cell_type": "code",
   "execution_count": 74,
   "metadata": {},
   "outputs": [
    {
     "name": "stdout",
     "output_type": "stream",
     "text": [
      "Number of edges in G before swap: 78\n",
      "Number of edges in G before swap: 78\n"
     ]
    }
   ],
   "source": [
    "# 5/6. Performe randomization experiment to assess if the modularity is statitically different from 0\n",
    "rand_graph = data_graph.copy()\n",
    "print('Number of edges in G before swap: ' + str(len(data_graph.edges)))\n",
    "\n",
    "# implement the double edge swap algorithm\n",
    "nx.double_edge_swap(rand_graph, nswap=90, max_tries=500)\n",
    "print('Number of edges in G before swap: ' + str(len(rand_graph.edges)))\n"
   ]
  },
  {
   "attachments": {},
   "cell_type": "markdown",
   "metadata": {},
   "source": [
    "<span style=\"color:red\"> 7. Create 1000 randomized version of the Karate Club network using the double edge swap algorithm you wrote in step 5. For each of them, compute the modularity of the \"club\" split and store it in a list.<span>"
   ]
  },
  {
   "cell_type": "code",
   "execution_count": 75,
   "metadata": {},
   "outputs": [
    {
     "name": "stdout",
     "output_type": "stream",
     "text": [
      "Average of modularities is nan\n",
      "Standard deviation of modularities nan\n"
     ]
    }
   ],
   "source": [
    "# 8. average and standard deviation\n",
    "av = np.mean(modularities)\n",
    "std = np.std(modularities)\n",
    "\n",
    "print('Average of modularities is ' + str(av))\n",
    "print('Standard deviation of modularities ' + str(std))"
   ]
  },
  {
   "cell_type": "code",
   "execution_count": 79,
   "metadata": {},
   "outputs": [
    {
     "name": "stdout",
     "output_type": "stream",
     "text": [
      "The actual modularity is 0.39143756676224206\n"
     ]
    },
    {
     "data": {
      "text/plain": [
       "<matplotlib.lines.Line2D at 0x7ff4ce2beee0>"
      ]
     },
     "execution_count": 79,
     "metadata": {},
     "output_type": "execute_result"
    },
    {
     "data": {
      "image/png": "[encoded data removed]",
      "text/plain": [
       "<Figure size 640x480 with 1 Axes>"
      ]
     },
     "metadata": {},
     "output_type": "display_data"
    }
   ],
   "source": [
    "actual_mod = nx_comm.modularity(data_graph, [{x for x,y in data_graph.nodes(data=True) if y['group']=='Mr. Hi'}, {x for x,y in data_graph.nodes(data=True) if y['group']=='Officer'}])\n",
    "\n",
    "print('The actual modularity is ' + str(actual_mod))\n",
    "\n",
    "plt.hist(modularities)\n",
    "plt.xlabel('Modularities')\n",
    "plt.ylabel('Frequency')\n",
    "plt.title('Frequency of modularities in random network')\n",
    "plt.axvline(actual_mod, color='red')"
   ]
  },
  {
   "attachments": {},
   "cell_type": "markdown",
   "metadata": {},
   "source": [
    "10. the club split is not a good partitioning. <span style=\"color:red\"> why not? og kan ikke få distributionen med af en eller anden grund<span>"
   ]
  },
  {
   "cell_type": "code",
   "execution_count": 80,
   "metadata": {},
   "outputs": [
    {
     "name": "stdout",
     "output_type": "stream",
     "text": [
      "The modularity of Louvain algorithm is 0.44490358126721763\n"
     ]
    }
   ],
   "source": [
    "# 11. Value of modularity using Louvain-algorithm  \n",
    "communities_z = nx_comm.louvain_communities(data_graph)\n",
    "modularity_z = nx_comm.modularity(data_graph, communities_z)\n",
    "print('The modularity of Louvain algorithm is ' + str(modularity_z))"
   ]
  },
  {
   "attachments": {},
   "cell_type": "markdown",
   "metadata": {},
   "source": [
    "The value found by Louvain is higher than the actual value found for the 'club' split.\n",
    "\n",
    "\n",
    "<span style=\"color:red\">What does this comparison reveal??<span>"
   ]
  },
  {
   "cell_type": "code",
   "execution_count": null,
   "metadata": {},
   "outputs": [],
   "source": [
    "# 12. Compute confusion matrix\n",
    "\n",
    "print(communities_z)\n",
    "\n",
    "club1 = {x for x,y in data_graph.nodes(data=True) if y['group']=='Mr. Hi'}\n",
    "club2 = {x for x,y in data_graph.nodes(data=True) if y['group']=='Officer'}\n",
    "comm_club = [club1, club2]\n",
    "\n",
    "D = np.zeros((len(communities_z), len(comm_club)))\n",
    "\n",
    "for i in range(len(comm_club)):\n",
    "    for n in comm_club[i]:\n",
    "        for j in range(len(communities_z)):\n",
    "            if n in communities_z[j]:\n",
    "                D[j][i] += 1\n",
    "\n",
    "print(D)"
   ]
  },
  {
   "attachments": {},
   "cell_type": "markdown",
   "metadata": {},
   "source": [
    "<span style=\"color:red\"> Use the confusion matrix to explain how well the communities you've detected correspond to the club split partitioning.<span>"
   ]
  },
  {
   "attachments": {},
   "cell_type": "markdown",
   "metadata": {},
   "source": [
    "### Exercise 3: Community detection on the network of Computational Social Scientists."
   ]
  },
  {
   "cell_type": "code",
   "execution_count": null,
   "metadata": {},
   "outputs": [],
   "source": []
  },
  {
   "cell_type": "code",
   "execution_count": null,
   "metadata": {},
   "outputs": [],
   "source": []
  },
  {
   "cell_type": "code",
   "execution_count": null,
   "metadata": {},
   "outputs": [],
   "source": []
  },
  {
   "cell_type": "code",
   "execution_count": null,
   "metadata": {},
   "outputs": [],
   "source": []
  },
  {
   "cell_type": "code",
   "execution_count": null,
   "metadata": {},
   "outputs": [],
   "source": []
  },
  {
   "cell_type": "code",
   "execution_count": null,
   "metadata": {},
   "outputs": [],
   "source": []
  },
  {
   "attachments": {},
   "cell_type": "markdown",
   "metadata": {},
   "source": [
    "## Part 3: TF-IDF."
   ]
  },
  {
   "attachments": {},
   "cell_type": "markdown",
   "metadata": {},
   "source": [
    "### Exercise 4: TF-IDF and the Computational Social Science communities."
   ]
  },
  {
   "attachments": {},
   "cell_type": "markdown",
   "metadata": {},
   "source": [
    "TF-IDF is an approach for representing text that involves the product of two components, term frequency (TF) and inverse document frequency (IDF). The term frequency is determined by dividing the number of occurrences of a specific word in a sentence by the total number of words in that sentence. The inverse document frequency is calculated by taking the logarithm of the total number of sentences in the corpus divided by the number of sentences that contain the specific word. The resulting TF-IDF score is obtained by multiplying the TF and IDF values for each word.\n",
    "\n",
    "An advantage of TF-IDF over other text representation techniques, such as the bag of words model, is its ability to give an estimation of the semantic meaning of words. While the bag of words model simply represents words as binary values (either present or absent), TF-IDF scores indicate the relative importance of words in different sentences by comparing their scores. For example, if a word is present in every sentence of a corpus, its IDF value would be log(1)=0, resulting in a TF-IDF score of 0 for that word, indicating that it does not convey any special meaning in those sentences."
   ]
  },
  {
   "attachments": {},
   "cell_type": "markdown",
   "metadata": {},
   "source": [
    "##### For the next exercise we need:\n",
    "\n",
    "*  The assignment of each author to their network community, and the degree of each author. \n",
    "This is stored in a dataframe:\n"
   ]
  },
  {
   "cell_type": "code",
   "execution_count": null,
   "metadata": {},
   "outputs": [
    {
     "data": {
      "text/html": [
       "<div>\n",
       "<style scoped>\n",
       "    .dataframe tbody tr th:only-of-type {\n",
       "        vertical-align: middle;\n",
       "    }\n",
       "\n",
       "    .dataframe tbody tr th {\n",
       "        vertical-align: top;\n",
       "    }\n",
       "\n",
       "    .dataframe thead th {\n",
       "        text-align: right;\n",
       "    }\n",
       "</style>\n",
       "<table border=\"1\" class=\"dataframe\">\n",
       "  <thead>\n",
       "    <tr style=\"text-align: right;\">\n",
       "      <th></th>\n",
       "      <th>authorIds</th>\n",
       "      <th>Community</th>\n",
       "      <th>Degree</th>\n",
       "    </tr>\n",
       "  </thead>\n",
       "  <tbody>\n",
       "    <tr>\n",
       "      <th>0</th>\n",
       "      <td>1684687</td>\n",
       "      <td>31</td>\n",
       "      <td>10</td>\n",
       "    </tr>\n",
       "    <tr>\n",
       "      <th>1</th>\n",
       "      <td>1401290379</td>\n",
       "      <td>22</td>\n",
       "      <td>5</td>\n",
       "    </tr>\n",
       "    <tr>\n",
       "      <th>2</th>\n",
       "      <td>1747178</td>\n",
       "      <td>11</td>\n",
       "      <td>4</td>\n",
       "    </tr>\n",
       "    <tr>\n",
       "      <th>3</th>\n",
       "      <td>145791827</td>\n",
       "      <td>31</td>\n",
       "      <td>14</td>\n",
       "    </tr>\n",
       "    <tr>\n",
       "      <th>4</th>\n",
       "      <td>12619623</td>\n",
       "      <td>31</td>\n",
       "      <td>8</td>\n",
       "    </tr>\n",
       "    <tr>\n",
       "      <th>...</th>\n",
       "      <td>...</td>\n",
       "      <td>...</td>\n",
       "      <td>...</td>\n",
       "    </tr>\n",
       "    <tr>\n",
       "      <th>427</th>\n",
       "      <td>1719389</td>\n",
       "      <td>90</td>\n",
       "      <td>0</td>\n",
       "    </tr>\n",
       "    <tr>\n",
       "      <th>428</th>\n",
       "      <td>1764577</td>\n",
       "      <td>31</td>\n",
       "      <td>1</td>\n",
       "    </tr>\n",
       "    <tr>\n",
       "      <th>429</th>\n",
       "      <td>38906978</td>\n",
       "      <td>91</td>\n",
       "      <td>1</td>\n",
       "    </tr>\n",
       "    <tr>\n",
       "      <th>430</th>\n",
       "      <td>51440256</td>\n",
       "      <td>91</td>\n",
       "      <td>1</td>\n",
       "    </tr>\n",
       "    <tr>\n",
       "      <th>431</th>\n",
       "      <td>2625318</td>\n",
       "      <td>92</td>\n",
       "      <td>0</td>\n",
       "    </tr>\n",
       "  </tbody>\n",
       "</table>\n",
       "<p>432 rows × 3 columns</p>\n",
       "</div>"
      ],
      "text/plain": [
       "      authorIds  Community  Degree\n",
       "0       1684687         31      10\n",
       "1    1401290379         22       5\n",
       "2       1747178         11       4\n",
       "3     145791827         31      14\n",
       "4      12619623         31       8\n",
       "..          ...        ...     ...\n",
       "427     1719389         90       0\n",
       "428     1764577         31       1\n",
       "429    38906978         91       1\n",
       "430    51440256         91       1\n",
       "431     2625318         92       0\n",
       "\n",
       "[432 rows x 3 columns]"
      ]
     },
     "execution_count": 38,
     "metadata": {},
     "output_type": "execute_result"
    }
   ],
   "source": [
    "G = nx.read_gml('css_network_update.json')\n",
    "\n",
    "communities = nx_community.louvain_communities(G)\n",
    "\n",
    "# Dictionary for community assignments and degree of each author\n",
    "data = {'authorIds': [], 'Community': [], 'Degree': []}\n",
    "\n",
    "# Loop over each author in the network\n",
    "for author in G.nodes():\n",
    "    data['authorIds'].append(author)\n",
    "    \n",
    "    for i, community in enumerate(communities):\n",
    "        if author in community:\n",
    "            data['Community'].append(i)\n",
    "            break\n",
    "    \n",
    "    data['Degree'].append(G.degree(author))\n",
    "\n",
    "# Create dataframe\n",
    "df_community = pd.DataFrame(data)\n",
    "df_community\n"
   ]
  },
  {
   "attachments": {},
   "cell_type": "markdown",
   "metadata": {},
   "source": [
    "#### And: \n",
    "* The tokenized abstract dataframe which is also stored in a pandas dataframe:\n",
    "<span style=\"color:red\">OBS* Det er kun en lille pickle (skal vi lige ha lavet om)<span style=\"color:red\">"
   ]
  },
  {
   "cell_type": "code",
   "execution_count": null,
   "metadata": {},
   "outputs": [
    {
     "data": {
      "text/html": [
       "<div>\n",
       "<style scoped>\n",
       "    .dataframe tbody tr th:only-of-type {\n",
       "        vertical-align: middle;\n",
       "    }\n",
       "\n",
       "    .dataframe tbody tr th {\n",
       "        vertical-align: top;\n",
       "    }\n",
       "\n",
       "    .dataframe thead th {\n",
       "        text-align: right;\n",
       "    }\n",
       "</style>\n",
       "<table border=\"1\" class=\"dataframe\">\n",
       "  <thead>\n",
       "    <tr style=\"text-align: right;\">\n",
       "      <th></th>\n",
       "      <th>paperId</th>\n",
       "      <th>title</th>\n",
       "      <th>year</th>\n",
       "      <th>externalId.DOI</th>\n",
       "      <th>citationCount</th>\n",
       "      <th>fields</th>\n",
       "      <th>authorIds</th>\n",
       "      <th>abstract</th>\n",
       "    </tr>\n",
       "  </thead>\n",
       "  <tbody>\n",
       "    <tr>\n",
       "      <th>219</th>\n",
       "      <td>288f55879cc77a1317aba73a51651405c7c69d24</td>\n",
       "      <td>Over-Time Trends in Incivility on Social Media...</td>\n",
       "      <td>2021.0</td>\n",
       "      <td>10.3389/fpos.2021.741605</td>\n",
       "      <td>3</td>\n",
       "      <td>[[Sociology]]</td>\n",
       "      <td>[[47632726, 2496439, 102536922]]</td>\n",
       "      <td>NaN</td>\n",
       "    </tr>\n",
       "    <tr>\n",
       "      <th>225</th>\n",
       "      <td>684fbf37238d50c6163cc4676aaa1d13ef94086b</td>\n",
       "      <td>Multiplicity and dynamics of social representa...</td>\n",
       "      <td>2022.0</td>\n",
       "      <td>10.1016/j.ipm.2022.102990</td>\n",
       "      <td>1</td>\n",
       "      <td>[[Sociology]]</td>\n",
       "      <td>[[1720731753, 2117981295, 1720756214, 20076683...</td>\n",
       "      <td>NaN</td>\n",
       "    </tr>\n",
       "    <tr>\n",
       "      <th>283</th>\n",
       "      <td>3b6cd901c4d1485237f2437e3f58760e37b2c393</td>\n",
       "      <td>As real as real? Macroeconomic behavior in a l...</td>\n",
       "      <td>2009.0</td>\n",
       "      <td>10.1177/1461444809105346</td>\n",
       "      <td>145</td>\n",
       "      <td>[[Economics]]</td>\n",
       "      <td>[[2022803, 30904401, 39003910, 1768137, 206823...</td>\n",
       "      <td>NaN</td>\n",
       "    </tr>\n",
       "    <tr>\n",
       "      <th>303</th>\n",
       "      <td>16a77f15b5eee697979a6e700a3138df2037e942</td>\n",
       "      <td>What Information Drives Political Polarization...</td>\n",
       "      <td>2021.0</td>\n",
       "      <td>10.1177/19401612211004418</td>\n",
       "      <td>4</td>\n",
       "      <td>[[Economics]]</td>\n",
       "      <td>[[2496439, 1735860, 2116330104, 1506167488]]</td>\n",
       "      <td>NaN</td>\n",
       "    </tr>\n",
       "    <tr>\n",
       "      <th>423</th>\n",
       "      <td>1c8b8baf806b423f5604259fb9206b9eb18d5dc0</td>\n",
       "      <td>Guilt by association? Network based propagatio...</td>\n",
       "      <td>2013.0</td>\n",
       "      <td>10.1145/2492517.2492649</td>\n",
       "      <td>8</td>\n",
       "      <td>[[Economics]]</td>\n",
       "      <td>[[145919340, 145832870, 143922076, 30904401, 1...</td>\n",
       "      <td>NaN</td>\n",
       "    </tr>\n",
       "    <tr>\n",
       "      <th>...</th>\n",
       "      <td>...</td>\n",
       "      <td>...</td>\n",
       "      <td>...</td>\n",
       "      <td>...</td>\n",
       "      <td>...</td>\n",
       "      <td>...</td>\n",
       "      <td>...</td>\n",
       "      <td>...</td>\n",
       "    </tr>\n",
       "    <tr>\n",
       "      <th>172394</th>\n",
       "      <td>6f811930f1c1c36b9955f10d7ab95a88d5811e10</td>\n",
       "      <td>NaN</td>\n",
       "      <td>NaN</td>\n",
       "      <td>NaN</td>\n",
       "      <td>NaN</td>\n",
       "      <td>NaN</td>\n",
       "      <td>NaN</td>\n",
       "      <td>None</td>\n",
       "    </tr>\n",
       "    <tr>\n",
       "      <th>172421</th>\n",
       "      <td>f35cf07fbad48c007586155508ca436b2b12e686</td>\n",
       "      <td>NaN</td>\n",
       "      <td>NaN</td>\n",
       "      <td>NaN</td>\n",
       "      <td>NaN</td>\n",
       "      <td>NaN</td>\n",
       "      <td>NaN</td>\n",
       "      <td>None</td>\n",
       "    </tr>\n",
       "    <tr>\n",
       "      <th>192263</th>\n",
       "      <td>95b16af3dd501525ba799db2d81a8b3874898759</td>\n",
       "      <td>NaN</td>\n",
       "      <td>NaN</td>\n",
       "      <td>NaN</td>\n",
       "      <td>NaN</td>\n",
       "      <td>NaN</td>\n",
       "      <td>NaN</td>\n",
       "      <td>None</td>\n",
       "    </tr>\n",
       "    <tr>\n",
       "      <th>197148</th>\n",
       "      <td>8eff870a1941068f591b25cc824184c45e6e7067</td>\n",
       "      <td>NaN</td>\n",
       "      <td>NaN</td>\n",
       "      <td>NaN</td>\n",
       "      <td>NaN</td>\n",
       "      <td>NaN</td>\n",
       "      <td>NaN</td>\n",
       "      <td>We study the ever more integrated and ever mor...</td>\n",
       "    </tr>\n",
       "    <tr>\n",
       "      <th>233824</th>\n",
       "      <td>c4d99d6bde1d263e77834cd477e9cac1d5c22a13</td>\n",
       "      <td>NaN</td>\n",
       "      <td>NaN</td>\n",
       "      <td>NaN</td>\n",
       "      <td>NaN</td>\n",
       "      <td>NaN</td>\n",
       "      <td>NaN</td>\n",
       "      <td>From small communities to entire nations and s...</td>\n",
       "    </tr>\n",
       "  </tbody>\n",
       "</table>\n",
       "<p>1311 rows × 8 columns</p>\n",
       "</div>"
      ],
      "text/plain": [
       "                                         paperId  \\\n",
       "219     288f55879cc77a1317aba73a51651405c7c69d24   \n",
       "225     684fbf37238d50c6163cc4676aaa1d13ef94086b   \n",
       "283     3b6cd901c4d1485237f2437e3f58760e37b2c393   \n",
       "303     16a77f15b5eee697979a6e700a3138df2037e942   \n",
       "423     1c8b8baf806b423f5604259fb9206b9eb18d5dc0   \n",
       "...                                          ...   \n",
       "172394  6f811930f1c1c36b9955f10d7ab95a88d5811e10   \n",
       "172421  f35cf07fbad48c007586155508ca436b2b12e686   \n",
       "192263  95b16af3dd501525ba799db2d81a8b3874898759   \n",
       "197148  8eff870a1941068f591b25cc824184c45e6e7067   \n",
       "233824  c4d99d6bde1d263e77834cd477e9cac1d5c22a13   \n",
       "\n",
       "                                                    title    year  \\\n",
       "219     Over-Time Trends in Incivility on Social Media...  2021.0   \n",
       "225     Multiplicity and dynamics of social representa...  2022.0   \n",
       "283     As real as real? Macroeconomic behavior in a l...  2009.0   \n",
       "303     What Information Drives Political Polarization...  2021.0   \n",
       "423     Guilt by association? Network based propagatio...  2013.0   \n",
       "...                                                   ...     ...   \n",
       "172394                                                NaN     NaN   \n",
       "172421                                                NaN     NaN   \n",
       "192263                                                NaN     NaN   \n",
       "197148                                                NaN     NaN   \n",
       "233824                                                NaN     NaN   \n",
       "\n",
       "                   externalId.DOI citationCount         fields  \\\n",
       "219      10.3389/fpos.2021.741605             3  [[Sociology]]   \n",
       "225     10.1016/j.ipm.2022.102990             1  [[Sociology]]   \n",
       "283      10.1177/1461444809105346           145  [[Economics]]   \n",
       "303     10.1177/19401612211004418             4  [[Economics]]   \n",
       "423       10.1145/2492517.2492649             8  [[Economics]]   \n",
       "...                           ...           ...            ...   \n",
       "172394                        NaN           NaN            NaN   \n",
       "172421                        NaN           NaN            NaN   \n",
       "192263                        NaN           NaN            NaN   \n",
       "197148                        NaN           NaN            NaN   \n",
       "233824                        NaN           NaN            NaN   \n",
       "\n",
       "                                                authorIds  \\\n",
       "219                      [[47632726, 2496439, 102536922]]   \n",
       "225     [[1720731753, 2117981295, 1720756214, 20076683...   \n",
       "283     [[2022803, 30904401, 39003910, 1768137, 206823...   \n",
       "303          [[2496439, 1735860, 2116330104, 1506167488]]   \n",
       "423     [[145919340, 145832870, 143922076, 30904401, 1...   \n",
       "...                                                   ...   \n",
       "172394                                                NaN   \n",
       "172421                                                NaN   \n",
       "192263                                                NaN   \n",
       "197148                                                NaN   \n",
       "233824                                                NaN   \n",
       "\n",
       "                                                 abstract  \n",
       "219                                                   NaN  \n",
       "225                                                   NaN  \n",
       "283                                                   NaN  \n",
       "303                                                   NaN  \n",
       "423                                                   NaN  \n",
       "...                                                   ...  \n",
       "172394                                               None  \n",
       "172421                                               None  \n",
       "192263                                               None  \n",
       "197148  We study the ever more integrated and ever mor...  \n",
       "233824  From small communities to entire nations and s...  \n",
       "\n",
       "[1311 rows x 8 columns]"
      ]
     },
     "execution_count": 59,
     "metadata": {},
     "output_type": "execute_result"
    }
   ],
   "source": [
    "# Loading abstract pickle\n",
    "with open('css_abstract', \"rb\") as f:\n",
    "        css_abstract = pickle.load(f)"
   ]
  },
  {
   "cell_type": "code",
   "execution_count": null,
   "metadata": {},
   "outputs": [],
   "source": [
    "# Function to tokenize\n",
    "def tokenize_text(text):\n",
    "    # Remove URLs\n",
    "    text = re.sub(r'http\\S+', '', text)\n",
    "    # Remove punctuation\n",
    "    text = text.translate(str.maketrans('', '', string.punctuation))\n",
    "    # Remove numbers\n",
    "    text = re.sub(r'\\d+', '', text)\n",
    "    # Convert to lowercase\n",
    "    text = text.lower()\n",
    "    # Tokenize\n",
    "    tokens = word_tokenize(text)\n",
    "    # Remove stop words\n",
    "    tokens = [token for token in tokens if not token in stop_words]\n",
    "    return tokens"
   ]
  },
  {
   "cell_type": "code",
   "execution_count": null,
   "metadata": {},
   "outputs": [
    {
     "data": {
      "text/html": [
       "<div>\n",
       "<style scoped>\n",
       "    .dataframe tbody tr th:only-of-type {\n",
       "        vertical-align: middle;\n",
       "    }\n",
       "\n",
       "    .dataframe tbody tr th {\n",
       "        vertical-align: top;\n",
       "    }\n",
       "\n",
       "    .dataframe thead th {\n",
       "        text-align: right;\n",
       "    }\n",
       "</style>\n",
       "<table border=\"1\" class=\"dataframe\">\n",
       "  <thead>\n",
       "    <tr style=\"text-align: right;\">\n",
       "      <th></th>\n",
       "      <th>paperId</th>\n",
       "      <th>title</th>\n",
       "      <th>year</th>\n",
       "      <th>externalId.DOI</th>\n",
       "      <th>citationCount</th>\n",
       "      <th>fields</th>\n",
       "      <th>authorIds</th>\n",
       "      <th>abstract</th>\n",
       "      <th>tokens</th>\n",
       "    </tr>\n",
       "  </thead>\n",
       "  <tbody>\n",
       "    <tr>\n",
       "      <th>219</th>\n",
       "      <td>288f55879cc77a1317aba73a51651405c7c69d24</td>\n",
       "      <td>Over-Time Trends in Incivility on Social Media...</td>\n",
       "      <td>2021.0</td>\n",
       "      <td>10.3389/fpos.2021.741605</td>\n",
       "      <td>3</td>\n",
       "      <td>[[Sociology]]</td>\n",
       "      <td>[[47632726, 2496439, 102536922]]</td>\n",
       "      <td>nan</td>\n",
       "      <td>[]</td>\n",
       "    </tr>\n",
       "    <tr>\n",
       "      <th>225</th>\n",
       "      <td>684fbf37238d50c6163cc4676aaa1d13ef94086b</td>\n",
       "      <td>Multiplicity and dynamics of social representa...</td>\n",
       "      <td>2022.0</td>\n",
       "      <td>10.1016/j.ipm.2022.102990</td>\n",
       "      <td>1</td>\n",
       "      <td>[[Sociology]]</td>\n",
       "      <td>[[1720731753, 2117981295, 1720756214, 20076683...</td>\n",
       "      <td>nan</td>\n",
       "      <td>[]</td>\n",
       "    </tr>\n",
       "    <tr>\n",
       "      <th>283</th>\n",
       "      <td>3b6cd901c4d1485237f2437e3f58760e37b2c393</td>\n",
       "      <td>As real as real? Macroeconomic behavior in a l...</td>\n",
       "      <td>2009.0</td>\n",
       "      <td>10.1177/1461444809105346</td>\n",
       "      <td>145</td>\n",
       "      <td>[[Economics]]</td>\n",
       "      <td>[[2022803, 30904401, 39003910, 1768137, 206823...</td>\n",
       "      <td>nan</td>\n",
       "      <td>[]</td>\n",
       "    </tr>\n",
       "    <tr>\n",
       "      <th>303</th>\n",
       "      <td>16a77f15b5eee697979a6e700a3138df2037e942</td>\n",
       "      <td>What Information Drives Political Polarization...</td>\n",
       "      <td>2021.0</td>\n",
       "      <td>10.1177/19401612211004418</td>\n",
       "      <td>4</td>\n",
       "      <td>[[Economics]]</td>\n",
       "      <td>[[2496439, 1735860, 2116330104, 1506167488]]</td>\n",
       "      <td>nan</td>\n",
       "      <td>[]</td>\n",
       "    </tr>\n",
       "    <tr>\n",
       "      <th>423</th>\n",
       "      <td>1c8b8baf806b423f5604259fb9206b9eb18d5dc0</td>\n",
       "      <td>Guilt by association? Network based propagatio...</td>\n",
       "      <td>2013.0</td>\n",
       "      <td>10.1145/2492517.2492649</td>\n",
       "      <td>8</td>\n",
       "      <td>[[Economics]]</td>\n",
       "      <td>[[145919340, 145832870, 143922076, 30904401, 1...</td>\n",
       "      <td>nan</td>\n",
       "      <td>[]</td>\n",
       "    </tr>\n",
       "    <tr>\n",
       "      <th>...</th>\n",
       "      <td>...</td>\n",
       "      <td>...</td>\n",
       "      <td>...</td>\n",
       "      <td>...</td>\n",
       "      <td>...</td>\n",
       "      <td>...</td>\n",
       "      <td>...</td>\n",
       "      <td>...</td>\n",
       "      <td>...</td>\n",
       "    </tr>\n",
       "    <tr>\n",
       "      <th>172394</th>\n",
       "      <td>6f811930f1c1c36b9955f10d7ab95a88d5811e10</td>\n",
       "      <td>NaN</td>\n",
       "      <td>NaN</td>\n",
       "      <td>NaN</td>\n",
       "      <td>NaN</td>\n",
       "      <td>NaN</td>\n",
       "      <td>NaN</td>\n",
       "      <td>None</td>\n",
       "      <td>[]</td>\n",
       "    </tr>\n",
       "    <tr>\n",
       "      <th>172421</th>\n",
       "      <td>f35cf07fbad48c007586155508ca436b2b12e686</td>\n",
       "      <td>NaN</td>\n",
       "      <td>NaN</td>\n",
       "      <td>NaN</td>\n",
       "      <td>NaN</td>\n",
       "      <td>NaN</td>\n",
       "      <td>NaN</td>\n",
       "      <td>None</td>\n",
       "      <td>[]</td>\n",
       "    </tr>\n",
       "    <tr>\n",
       "      <th>192263</th>\n",
       "      <td>95b16af3dd501525ba799db2d81a8b3874898759</td>\n",
       "      <td>NaN</td>\n",
       "      <td>NaN</td>\n",
       "      <td>NaN</td>\n",
       "      <td>NaN</td>\n",
       "      <td>NaN</td>\n",
       "      <td>NaN</td>\n",
       "      <td>None</td>\n",
       "      <td>[]</td>\n",
       "    </tr>\n",
       "    <tr>\n",
       "      <th>197148</th>\n",
       "      <td>8eff870a1941068f591b25cc824184c45e6e7067</td>\n",
       "      <td>NaN</td>\n",
       "      <td>NaN</td>\n",
       "      <td>NaN</td>\n",
       "      <td>NaN</td>\n",
       "      <td>NaN</td>\n",
       "      <td>NaN</td>\n",
       "      <td>We study the ever more integrated and ever mor...</td>\n",
       "      <td>[study, ever, integrated, ever, unbalanced, tr...</td>\n",
       "    </tr>\n",
       "    <tr>\n",
       "      <th>233824</th>\n",
       "      <td>c4d99d6bde1d263e77834cd477e9cac1d5c22a13</td>\n",
       "      <td>NaN</td>\n",
       "      <td>NaN</td>\n",
       "      <td>NaN</td>\n",
       "      <td>NaN</td>\n",
       "      <td>NaN</td>\n",
       "      <td>NaN</td>\n",
       "      <td>From small communities to entire nations and s...</td>\n",
       "      <td>[small, communities, entire, nations, society,...</td>\n",
       "    </tr>\n",
       "  </tbody>\n",
       "</table>\n",
       "<p>1311 rows × 9 columns</p>\n",
       "</div>"
      ],
      "text/plain": [
       "                                         paperId  \\\n",
       "219     288f55879cc77a1317aba73a51651405c7c69d24   \n",
       "225     684fbf37238d50c6163cc4676aaa1d13ef94086b   \n",
       "283     3b6cd901c4d1485237f2437e3f58760e37b2c393   \n",
       "303     16a77f15b5eee697979a6e700a3138df2037e942   \n",
       "423     1c8b8baf806b423f5604259fb9206b9eb18d5dc0   \n",
       "...                                          ...   \n",
       "172394  6f811930f1c1c36b9955f10d7ab95a88d5811e10   \n",
       "172421  f35cf07fbad48c007586155508ca436b2b12e686   \n",
       "192263  95b16af3dd501525ba799db2d81a8b3874898759   \n",
       "197148  8eff870a1941068f591b25cc824184c45e6e7067   \n",
       "233824  c4d99d6bde1d263e77834cd477e9cac1d5c22a13   \n",
       "\n",
       "                                                    title    year  \\\n",
       "219     Over-Time Trends in Incivility on Social Media...  2021.0   \n",
       "225     Multiplicity and dynamics of social representa...  2022.0   \n",
       "283     As real as real? Macroeconomic behavior in a l...  2009.0   \n",
       "303     What Information Drives Political Polarization...  2021.0   \n",
       "423     Guilt by association? Network based propagatio...  2013.0   \n",
       "...                                                   ...     ...   \n",
       "172394                                                NaN     NaN   \n",
       "172421                                                NaN     NaN   \n",
       "192263                                                NaN     NaN   \n",
       "197148                                                NaN     NaN   \n",
       "233824                                                NaN     NaN   \n",
       "\n",
       "                   externalId.DOI citationCount         fields  \\\n",
       "219      10.3389/fpos.2021.741605             3  [[Sociology]]   \n",
       "225     10.1016/j.ipm.2022.102990             1  [[Sociology]]   \n",
       "283      10.1177/1461444809105346           145  [[Economics]]   \n",
       "303     10.1177/19401612211004418             4  [[Economics]]   \n",
       "423       10.1145/2492517.2492649             8  [[Economics]]   \n",
       "...                           ...           ...            ...   \n",
       "172394                        NaN           NaN            NaN   \n",
       "172421                        NaN           NaN            NaN   \n",
       "192263                        NaN           NaN            NaN   \n",
       "197148                        NaN           NaN            NaN   \n",
       "233824                        NaN           NaN            NaN   \n",
       "\n",
       "                                                authorIds  \\\n",
       "219                      [[47632726, 2496439, 102536922]]   \n",
       "225     [[1720731753, 2117981295, 1720756214, 20076683...   \n",
       "283     [[2022803, 30904401, 39003910, 1768137, 206823...   \n",
       "303          [[2496439, 1735860, 2116330104, 1506167488]]   \n",
       "423     [[145919340, 145832870, 143922076, 30904401, 1...   \n",
       "...                                                   ...   \n",
       "172394                                                NaN   \n",
       "172421                                                NaN   \n",
       "192263                                                NaN   \n",
       "197148                                                NaN   \n",
       "233824                                                NaN   \n",
       "\n",
       "                                                 abstract  \\\n",
       "219                                                   nan   \n",
       "225                                                   nan   \n",
       "283                                                   nan   \n",
       "303                                                   nan   \n",
       "423                                                   nan   \n",
       "...                                                   ...   \n",
       "172394                                               None   \n",
       "172421                                               None   \n",
       "192263                                               None   \n",
       "197148  We study the ever more integrated and ever mor...   \n",
       "233824  From small communities to entire nations and s...   \n",
       "\n",
       "                                                   tokens  \n",
       "219                                                    []  \n",
       "225                                                    []  \n",
       "283                                                    []  \n",
       "303                                                    []  \n",
       "423                                                    []  \n",
       "...                                                   ...  \n",
       "172394                                                 []  \n",
       "172421                                                 []  \n",
       "192263                                                 []  \n",
       "197148  [study, ever, integrated, ever, unbalanced, tr...  \n",
       "233824  [small, communities, entire, nations, society,...  \n",
       "\n",
       "[1311 rows x 9 columns]"
      ]
     },
     "execution_count": 35,
     "metadata": {},
     "output_type": "execute_result"
    }
   ],
   "source": [
    "# Load stop words\n",
    "stop_words = set(stopwords.words('english'))\n",
    "\n",
    "def tokenize_text(text):\n",
    "    # Remove URLs\n",
    "    text = re.sub(r'http\\S+', '', text)\n",
    "    # Remove punctuation\n",
    "    text = text.translate(str.maketrans('', '', string.punctuation))\n",
    "    # Remove numbers\n",
    "    text = re.sub(r'\\d+', '', text)\n",
    "    # Convert to lowercase\n",
    "    text = text.lower()\n",
    "    # Tokenize\n",
    "    tokens = word_tokenize(text)\n",
    "    # Remove stop words\n",
    "    stop_words = set(stopwords.words('english'))\n",
    "    tokens = [token for token in tokens if token not in stop_words and token != 'none' and token != 'nan']\n",
    "    return tokens\n",
    "\n",
    "# Tokenize and save in new column 'tokens'\n",
    "css_abstract['abstract'] = css_abstract['abstract'].astype(str)\n",
    "css_abstract['tokens'] = css_abstract['abstract'].apply(tokenize_text)\n",
    "css_abstract\n"
   ]
  },
  {
   "cell_type": "code",
   "execution_count": null,
   "metadata": {},
   "outputs": [
    {
     "name": "stdout",
     "output_type": "stream",
     "text": [
      "(1311, 9)\n",
      "(1311, 9)\n",
      "(3096, 9)\n"
     ]
    },
    {
     "data": {
      "text/html": [
       "<div>\n",
       "<style scoped>\n",
       "    .dataframe tbody tr th:only-of-type {\n",
       "        vertical-align: middle;\n",
       "    }\n",
       "\n",
       "    .dataframe tbody tr th {\n",
       "        vertical-align: top;\n",
       "    }\n",
       "\n",
       "    .dataframe thead th {\n",
       "        text-align: right;\n",
       "    }\n",
       "</style>\n",
       "<table border=\"1\" class=\"dataframe\">\n",
       "  <thead>\n",
       "    <tr style=\"text-align: right;\">\n",
       "      <th></th>\n",
       "      <th>paperId</th>\n",
       "      <th>title</th>\n",
       "      <th>year</th>\n",
       "      <th>externalId.DOI</th>\n",
       "      <th>citationCount</th>\n",
       "      <th>fields</th>\n",
       "      <th>authorIds</th>\n",
       "      <th>abstract</th>\n",
       "      <th>tokens</th>\n",
       "    </tr>\n",
       "  </thead>\n",
       "  <tbody>\n",
       "    <tr>\n",
       "      <th>219</th>\n",
       "      <td>288f55879cc77a1317aba73a51651405c7c69d24</td>\n",
       "      <td>Over-Time Trends in Incivility on Social Media...</td>\n",
       "      <td>2021.0</td>\n",
       "      <td>10.3389/fpos.2021.741605</td>\n",
       "      <td>3</td>\n",
       "      <td>[[Sociology]]</td>\n",
       "      <td>[[47632726, 2496439, 102536922]]</td>\n",
       "      <td>nan</td>\n",
       "      <td>[]</td>\n",
       "    </tr>\n",
       "    <tr>\n",
       "      <th>225</th>\n",
       "      <td>684fbf37238d50c6163cc4676aaa1d13ef94086b</td>\n",
       "      <td>Multiplicity and dynamics of social representa...</td>\n",
       "      <td>2022.0</td>\n",
       "      <td>10.1016/j.ipm.2022.102990</td>\n",
       "      <td>1</td>\n",
       "      <td>[[Sociology]]</td>\n",
       "      <td>[[1720731753, 2117981295, 1720756214, 20076683...</td>\n",
       "      <td>nan</td>\n",
       "      <td>[]</td>\n",
       "    </tr>\n",
       "    <tr>\n",
       "      <th>283</th>\n",
       "      <td>3b6cd901c4d1485237f2437e3f58760e37b2c393</td>\n",
       "      <td>As real as real? Macroeconomic behavior in a l...</td>\n",
       "      <td>2009.0</td>\n",
       "      <td>10.1177/1461444809105346</td>\n",
       "      <td>145</td>\n",
       "      <td>[[Economics]]</td>\n",
       "      <td>[[2022803, 30904401, 39003910, 1768137, 206823...</td>\n",
       "      <td>nan</td>\n",
       "      <td>[]</td>\n",
       "    </tr>\n",
       "    <tr>\n",
       "      <th>303</th>\n",
       "      <td>16a77f15b5eee697979a6e700a3138df2037e942</td>\n",
       "      <td>What Information Drives Political Polarization...</td>\n",
       "      <td>2021.0</td>\n",
       "      <td>10.1177/19401612211004418</td>\n",
       "      <td>4</td>\n",
       "      <td>[[Economics]]</td>\n",
       "      <td>[[2496439, 1735860, 2116330104, 1506167488]]</td>\n",
       "      <td>nan</td>\n",
       "      <td>[]</td>\n",
       "    </tr>\n",
       "    <tr>\n",
       "      <th>423</th>\n",
       "      <td>1c8b8baf806b423f5604259fb9206b9eb18d5dc0</td>\n",
       "      <td>Guilt by association? Network based propagatio...</td>\n",
       "      <td>2013.0</td>\n",
       "      <td>10.1145/2492517.2492649</td>\n",
       "      <td>8</td>\n",
       "      <td>[[Economics]]</td>\n",
       "      <td>[[145919340, 145832870, 143922076, 30904401, 1...</td>\n",
       "      <td>nan</td>\n",
       "      <td>[]</td>\n",
       "    </tr>\n",
       "    <tr>\n",
       "      <th>...</th>\n",
       "      <td>...</td>\n",
       "      <td>...</td>\n",
       "      <td>...</td>\n",
       "      <td>...</td>\n",
       "      <td>...</td>\n",
       "      <td>...</td>\n",
       "      <td>...</td>\n",
       "      <td>...</td>\n",
       "      <td>...</td>\n",
       "    </tr>\n",
       "    <tr>\n",
       "      <th>172394</th>\n",
       "      <td>6f811930f1c1c36b9955f10d7ab95a88d5811e10</td>\n",
       "      <td>NaN</td>\n",
       "      <td>NaN</td>\n",
       "      <td>NaN</td>\n",
       "      <td>NaN</td>\n",
       "      <td>NaN</td>\n",
       "      <td>NaN</td>\n",
       "      <td>None</td>\n",
       "      <td>[]</td>\n",
       "    </tr>\n",
       "    <tr>\n",
       "      <th>172421</th>\n",
       "      <td>f35cf07fbad48c007586155508ca436b2b12e686</td>\n",
       "      <td>NaN</td>\n",
       "      <td>NaN</td>\n",
       "      <td>NaN</td>\n",
       "      <td>NaN</td>\n",
       "      <td>NaN</td>\n",
       "      <td>NaN</td>\n",
       "      <td>None</td>\n",
       "      <td>[]</td>\n",
       "    </tr>\n",
       "    <tr>\n",
       "      <th>192263</th>\n",
       "      <td>95b16af3dd501525ba799db2d81a8b3874898759</td>\n",
       "      <td>NaN</td>\n",
       "      <td>NaN</td>\n",
       "      <td>NaN</td>\n",
       "      <td>NaN</td>\n",
       "      <td>NaN</td>\n",
       "      <td>NaN</td>\n",
       "      <td>None</td>\n",
       "      <td>[]</td>\n",
       "    </tr>\n",
       "    <tr>\n",
       "      <th>197148</th>\n",
       "      <td>8eff870a1941068f591b25cc824184c45e6e7067</td>\n",
       "      <td>NaN</td>\n",
       "      <td>NaN</td>\n",
       "      <td>NaN</td>\n",
       "      <td>NaN</td>\n",
       "      <td>NaN</td>\n",
       "      <td>NaN</td>\n",
       "      <td>We study the ever more integrated and ever mor...</td>\n",
       "      <td>[study, ever, integrated, ever, unbalanced, tr...</td>\n",
       "    </tr>\n",
       "    <tr>\n",
       "      <th>233824</th>\n",
       "      <td>c4d99d6bde1d263e77834cd477e9cac1d5c22a13</td>\n",
       "      <td>NaN</td>\n",
       "      <td>NaN</td>\n",
       "      <td>NaN</td>\n",
       "      <td>NaN</td>\n",
       "      <td>NaN</td>\n",
       "      <td>NaN</td>\n",
       "      <td>From small communities to entire nations and s...</td>\n",
       "      <td>[small, communities, entire, nations, society,...</td>\n",
       "    </tr>\n",
       "  </tbody>\n",
       "</table>\n",
       "<p>1311 rows × 9 columns</p>\n",
       "</div>"
      ],
      "text/plain": [
       "                                         paperId  \\\n",
       "219     288f55879cc77a1317aba73a51651405c7c69d24   \n",
       "225     684fbf37238d50c6163cc4676aaa1d13ef94086b   \n",
       "283     3b6cd901c4d1485237f2437e3f58760e37b2c393   \n",
       "303     16a77f15b5eee697979a6e700a3138df2037e942   \n",
       "423     1c8b8baf806b423f5604259fb9206b9eb18d5dc0   \n",
       "...                                          ...   \n",
       "172394  6f811930f1c1c36b9955f10d7ab95a88d5811e10   \n",
       "172421  f35cf07fbad48c007586155508ca436b2b12e686   \n",
       "192263  95b16af3dd501525ba799db2d81a8b3874898759   \n",
       "197148  8eff870a1941068f591b25cc824184c45e6e7067   \n",
       "233824  c4d99d6bde1d263e77834cd477e9cac1d5c22a13   \n",
       "\n",
       "                                                    title    year  \\\n",
       "219     Over-Time Trends in Incivility on Social Media...  2021.0   \n",
       "225     Multiplicity and dynamics of social representa...  2022.0   \n",
       "283     As real as real? Macroeconomic behavior in a l...  2009.0   \n",
       "303     What Information Drives Political Polarization...  2021.0   \n",
       "423     Guilt by association? Network based propagatio...  2013.0   \n",
       "...                                                   ...     ...   \n",
       "172394                                                NaN     NaN   \n",
       "172421                                                NaN     NaN   \n",
       "192263                                                NaN     NaN   \n",
       "197148                                                NaN     NaN   \n",
       "233824                                                NaN     NaN   \n",
       "\n",
       "                   externalId.DOI citationCount         fields  \\\n",
       "219      10.3389/fpos.2021.741605             3  [[Sociology]]   \n",
       "225     10.1016/j.ipm.2022.102990             1  [[Sociology]]   \n",
       "283      10.1177/1461444809105346           145  [[Economics]]   \n",
       "303     10.1177/19401612211004418             4  [[Economics]]   \n",
       "423       10.1145/2492517.2492649             8  [[Economics]]   \n",
       "...                           ...           ...            ...   \n",
       "172394                        NaN           NaN            NaN   \n",
       "172421                        NaN           NaN            NaN   \n",
       "192263                        NaN           NaN            NaN   \n",
       "197148                        NaN           NaN            NaN   \n",
       "233824                        NaN           NaN            NaN   \n",
       "\n",
       "                                                authorIds  \\\n",
       "219                      [[47632726, 2496439, 102536922]]   \n",
       "225     [[1720731753, 2117981295, 1720756214, 20076683...   \n",
       "283     [[2022803, 30904401, 39003910, 1768137, 206823...   \n",
       "303          [[2496439, 1735860, 2116330104, 1506167488]]   \n",
       "423     [[145919340, 145832870, 143922076, 30904401, 1...   \n",
       "...                                                   ...   \n",
       "172394                                                NaN   \n",
       "172421                                                NaN   \n",
       "192263                                                NaN   \n",
       "197148                                                NaN   \n",
       "233824                                                NaN   \n",
       "\n",
       "                                                 abstract  \\\n",
       "219                                                   nan   \n",
       "225                                                   nan   \n",
       "283                                                   nan   \n",
       "303                                                   nan   \n",
       "423                                                   nan   \n",
       "...                                                   ...   \n",
       "172394                                               None   \n",
       "172421                                               None   \n",
       "192263                                               None   \n",
       "197148  We study the ever more integrated and ever mor...   \n",
       "233824  From small communities to entire nations and s...   \n",
       "\n",
       "                                                   tokens  \n",
       "219                                                    []  \n",
       "225                                                    []  \n",
       "283                                                    []  \n",
       "303                                                    []  \n",
       "423                                                    []  \n",
       "...                                                   ...  \n",
       "172394                                                 []  \n",
       "172421                                                 []  \n",
       "192263                                                 []  \n",
       "197148  [study, ever, integrated, ever, unbalanced, tr...  \n",
       "233824  [small, communities, entire, nations, society,...  \n",
       "\n",
       "[1311 rows x 9 columns]"
      ]
     },
     "execution_count": 58,
     "metadata": {},
     "output_type": "execute_result"
    }
   ],
   "source": [
    "bla = css_abstract.explode('authorIds')\n",
    "blabla = bla.explode('authorIds')\n",
    "\n",
    "\n",
    "print(css_abstract.shape)\n",
    "print(bla.shape)\n",
    "print(blabla.shape)\n",
    "css_abstract"
   ]
  },
  {
   "cell_type": "code",
   "execution_count": null,
   "metadata": {},
   "outputs": [
    {
     "data": {
      "text/plain": [
       "219       False\n",
       "219       False\n",
       "219       False\n",
       "225       False\n",
       "225       False\n",
       "          ...  \n",
       "172394    False\n",
       "172421    False\n",
       "192263    False\n",
       "197148    False\n",
       "233824    False\n",
       "Name: authorIds, Length: 3096, dtype: bool"
      ]
     },
     "execution_count": 56,
     "metadata": {},
     "output_type": "execute_result"
    }
   ],
   "source": [
    "j = blabla['authorIds'] == 47632726\n",
    "j"
   ]
  },
  {
   "attachments": {},
   "cell_type": "markdown",
   "metadata": {},
   "source": [
    "Now, we want to find out which words are important for each community, so we're going to create several *large documents, one for each community*. Each document includes all the tokens of abstracts written by members of a given community.\n",
    "\n",
    "* Consider a community c\n",
    "* Find all the abstracts of papers written by a member of community c.\n",
    "* Create a long array that stores all the abstract tokens\n",
    "* Repeat for all the communities.\n",
    "\n",
    "(To ensure your code is efficient, you shall exploit pandas builtin functions, such as groupby.apply or explode)"
   ]
  },
  {
   "cell_type": "code",
   "execution_count": null,
   "metadata": {},
   "outputs": [],
   "source": []
  },
  {
   "cell_type": "code",
   "execution_count": null,
   "metadata": {},
   "outputs": [],
   "source": []
  },
  {
   "cell_type": "code",
   "execution_count": null,
   "metadata": {},
   "outputs": [],
   "source": []
  },
  {
   "attachments": {},
   "cell_type": "markdown",
   "metadata": {},
   "source": [
    " Calculate the TF for each word. Use the method of your choice to find the top 5 terms within the top 5 communities (by number of authors).\n",
    "\n",
    "* Describe similarities and differences between the communities.\n",
    "* Why aren't the TFs not necessarily a good description of the communities?\n",
    "* Next, we calculate IDF for every word.\n",
    "* What base logarithm did you use? Is that important?\n"
   ]
  },
  {
   "cell_type": "code",
   "execution_count": null,
   "metadata": {},
   "outputs": [],
   "source": []
  },
  {
   "cell_type": "code",
   "execution_count": null,
   "metadata": {},
   "outputs": [],
   "source": []
  },
  {
   "cell_type": "code",
   "execution_count": null,
   "metadata": {},
   "outputs": [],
   "source": []
  },
  {
   "cell_type": "code",
   "execution_count": null,
   "metadata": {},
   "outputs": [],
   "source": []
  },
  {
   "attachments": {},
   "cell_type": "markdown",
   "metadata": {},
   "source": [
    "\n",
    "   \n",
    "We're ready to calculate TF-IDF. Do that for the top 9 communities (by number of authors). Then for each community:\n",
    "\n",
    "* List the 10 top TF words\n",
    "* List the 10 top TF-IDF words\n",
    "* List the top 3 authors (by degree)\n",
    "* Are these 10 words more descriptive of the community? If yes, what is it about IDF that makes the words more informative?\n",
    "\n"
   ]
  },
  {
   "cell_type": "code",
   "execution_count": null,
   "metadata": {},
   "outputs": [],
   "source": []
  },
  {
   "cell_type": "code",
   "execution_count": null,
   "metadata": {},
   "outputs": [],
   "source": []
  },
  {
   "cell_type": "code",
   "execution_count": null,
   "metadata": {},
   "outputs": [],
   "source": []
  },
  {
   "cell_type": "code",
   "execution_count": null,
   "metadata": {},
   "outputs": [],
   "source": []
  },
  {
   "attachments": {},
   "cell_type": "markdown",
   "metadata": {},
   "source": [
    "### Exercise 5: The Wordcloud."
   ]
  },
  {
   "attachments": {},
   "cell_type": "markdown",
   "metadata": {},
   "source": [
    "Create word-cloud for each community. Feel free to make it as fancy or non-fancy as you like. Make sure that, together with the word cloud, you print the names of the top three authors in each community."
   ]
  },
  {
   "cell_type": "code",
   "execution_count": null,
   "metadata": {},
   "outputs": [],
   "source": []
  },
  {
   "cell_type": "code",
   "execution_count": null,
   "metadata": {},
   "outputs": [],
   "source": []
  },
  {
   "attachments": {},
   "cell_type": "markdown",
   "metadata": {},
   "source": [
    "Comment on your results. What can you conclude on the different sub-communities in Computational Social Science?"
   ]
  },
  {
   "cell_type": "code",
   "execution_count": null,
   "metadata": {},
   "outputs": [],
   "source": []
  },
  {
   "cell_type": "code",
   "execution_count": null,
   "metadata": {},
   "outputs": [],
   "source": []
  },
  {
   "cell_type": "code",
   "execution_count": null,
   "metadata": {},
   "outputs": [],
   "source": []
  },
  {
   "cell_type": "markdown",
   "metadata": {},
   "source": [
    "Look up online the top author in each community. In light of your search, do your results make sense?"
   ]
  },
  {
   "cell_type": "markdown",
   "metadata": {},
   "source": []
  },
  {
   "cell_type": "markdown",
   "metadata": {},
   "source": []
  }
 ],
 "metadata": {
  "kernelspec": {
   "display_name": "base",
   "language": "python",
   "name": "python3"
  },
  "language_info": {
   "codemirror_mode": {
    "name": "ipython",
    "version": 3
   },
   "file_extension": ".py",
   "mimetype": "text/x-python",
   "name": "python",
   "nbconvert_exporter": "python",
   "pygments_lexer": "ipython3",
   "version": "3.9.13"
  },
  "orig_nbformat": 4,
  "vscode": {
   "interpreter": {
    "hash": "3a5c5daede66250a52d758be5d57490f14f7efe1f4cb46e79440d68554ab5513"
   }
  }
 },
 "nbformat": 4,
 "nbformat_minor": 2
}
